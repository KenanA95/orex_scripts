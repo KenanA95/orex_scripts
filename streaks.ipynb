{
 "cells": [
  {
   "cell_type": "code",
   "execution_count": 18,
   "metadata": {
    "collapsed": false
   },
   "outputs": [
    {
     "data": {
      "text/html": [
       "<div>\n",
       "<table border=\"1\" class=\"dataframe\">\n",
       "  <thead>\n",
       "    <tr style=\"text-align: right;\">\n",
       "      <th></th>\n",
       "      <th>Image ID</th>\n",
       "      <th>Index</th>\n",
       "      <th>Exposure Time (UTC)</th>\n",
       "      <th>Manual Count</th>\n",
       "      <th>Automated Count</th>\n",
       "      <th>Manual Comments</th>\n",
       "      <th>SunUV_X</th>\n",
       "      <th>SunUV_Y</th>\n",
       "      <th>SunUV_Z</th>\n",
       "      <th>Top Left</th>\n",
       "      <th>Top Right</th>\n",
       "      <th>Bottom Left</th>\n",
       "      <th>Bottom Right</th>\n",
       "      <th>Corner Avg</th>\n",
       "      <th>Stray Light</th>\n",
       "    </tr>\n",
       "  </thead>\n",
       "  <tbody>\n",
       "    <tr>\n",
       "      <th>0</th>\n",
       "      <td>545118779</td>\n",
       "      <td>0</td>\n",
       "      <td>2017-04-10 03:33:00</td>\n",
       "      <td>0</td>\n",
       "      <td>0</td>\n",
       "      <td>NaN</td>\n",
       "      <td>0.821132</td>\n",
       "      <td>-0.400413</td>\n",
       "      <td>0.407029</td>\n",
       "      <td>100.502222</td>\n",
       "      <td>102.075556</td>\n",
       "      <td>100.008889</td>\n",
       "      <td>100.004444</td>\n",
       "      <td>100.647778</td>\n",
       "      <td>0</td>\n",
       "    </tr>\n",
       "    <tr>\n",
       "      <th>1</th>\n",
       "      <td>545118814</td>\n",
       "      <td>1</td>\n",
       "      <td>2017-04-10 03:36:15</td>\n",
       "      <td>0</td>\n",
       "      <td>0</td>\n",
       "      <td>NaN</td>\n",
       "      <td>0.821140</td>\n",
       "      <td>-0.400423</td>\n",
       "      <td>0.407004</td>\n",
       "      <td>110.373333</td>\n",
       "      <td>126.311111</td>\n",
       "      <td>100.000000</td>\n",
       "      <td>100.000000</td>\n",
       "      <td>109.171111</td>\n",
       "      <td>1</td>\n",
       "    </tr>\n",
       "    <tr>\n",
       "      <th>2</th>\n",
       "      <td>545118849</td>\n",
       "      <td>2</td>\n",
       "      <td>2017-04-10 03:36:40</td>\n",
       "      <td>1</td>\n",
       "      <td>0</td>\n",
       "      <td>NaN</td>\n",
       "      <td>0.821140</td>\n",
       "      <td>-0.400423</td>\n",
       "      <td>0.407004</td>\n",
       "      <td>100.062222</td>\n",
       "      <td>101.337778</td>\n",
       "      <td>100.000000</td>\n",
       "      <td>100.000000</td>\n",
       "      <td>100.350000</td>\n",
       "      <td>0</td>\n",
       "    </tr>\n",
       "    <tr>\n",
       "      <th>3</th>\n",
       "      <td>545118884</td>\n",
       "      <td>3</td>\n",
       "      <td>2017-04-10 03:40:00</td>\n",
       "      <td>2</td>\n",
       "      <td>0</td>\n",
       "      <td>NaN</td>\n",
       "      <td>0.821155</td>\n",
       "      <td>-0.400441</td>\n",
       "      <td>0.406955</td>\n",
       "      <td>108.191111</td>\n",
       "      <td>120.822222</td>\n",
       "      <td>100.000000</td>\n",
       "      <td>100.000000</td>\n",
       "      <td>107.253333</td>\n",
       "      <td>1</td>\n",
       "    </tr>\n",
       "    <tr>\n",
       "      <th>4</th>\n",
       "      <td>545118919</td>\n",
       "      <td>4</td>\n",
       "      <td>2017-04-10 03:45:05</td>\n",
       "      <td>0</td>\n",
       "      <td>0</td>\n",
       "      <td>NaN</td>\n",
       "      <td>0.877170</td>\n",
       "      <td>-0.360202</td>\n",
       "      <td>0.317496</td>\n",
       "      <td>100.008889</td>\n",
       "      <td>100.000000</td>\n",
       "      <td>100.000000</td>\n",
       "      <td>100.013333</td>\n",
       "      <td>100.005556</td>\n",
       "      <td>0</td>\n",
       "    </tr>\n",
       "  </tbody>\n",
       "</table>\n",
       "</div>"
      ],
      "text/plain": [
       "    Image ID  Index Exposure Time (UTC)  Manual Count  Automated Count  \\\n",
       "0  545118779      0 2017-04-10 03:33:00             0                0   \n",
       "1  545118814      1 2017-04-10 03:36:15             0                0   \n",
       "2  545118849      2 2017-04-10 03:36:40             1                0   \n",
       "3  545118884      3 2017-04-10 03:40:00             2                0   \n",
       "4  545118919      4 2017-04-10 03:45:05             0                0   \n",
       "\n",
       "  Manual Comments   SunUV_X   SunUV_Y   SunUV_Z    Top Left   Top Right  \\\n",
       "0             NaN  0.821132 -0.400413  0.407029  100.502222  102.075556   \n",
       "1             NaN  0.821140 -0.400423  0.407004  110.373333  126.311111   \n",
       "2             NaN  0.821140 -0.400423  0.407004  100.062222  101.337778   \n",
       "3             NaN  0.821155 -0.400441  0.406955  108.191111  120.822222   \n",
       "4             NaN  0.877170 -0.360202  0.317496  100.008889  100.000000   \n",
       "\n",
       "   Bottom Left  Bottom Right  Corner Avg  Stray Light  \n",
       "0   100.008889    100.004444  100.647778            0  \n",
       "1   100.000000    100.000000  109.171111            1  \n",
       "2   100.000000    100.000000  100.350000            0  \n",
       "3   100.000000    100.000000  107.253333            1  \n",
       "4   100.000000    100.013333  100.005556            0  "
      ]
     },
     "execution_count": 18,
     "metadata": {},
     "output_type": "execute_result"
    }
   ],
   "source": [
    "import pandas as pd\n",
    "import numpy as np\n",
    "import plotly.graph_objs as go\n",
    "from plotly.offline import plot\n",
    "\n",
    "streaks_path = 'C:\\\\Users\\\\kalkiek\\\\Desktop\\\\streaks.xlsx'\n",
    "\n",
    "streaks_df = pd.read_excel(streaks_path, 'Sheet1')\n",
    "\n",
    "streaks_df.head()"
   ]
  },
  {
   "cell_type": "code",
   "execution_count": 28,
   "metadata": {
    "collapsed": false
   },
   "outputs": [
    {
     "data": {
      "text/plain": [
       "'file://C:\\\\Users\\\\kalkiek\\\\Desktop\\\\repos\\\\scripts\\\\temp-plot.html'"
      ]
     },
     "execution_count": 28,
     "metadata": {},
     "output_type": "execute_result"
    }
   ],
   "source": [
    "# Streaks vs Time\n",
    "\n",
    "trace = go.Scatter(\n",
    "    x=streaks_df['Exposure Time (UTC)'],\n",
    "    y=streaks_df['Manual Count'],\n",
    "    text=streaks_df['Manual Comments'],\n",
    "    name='Streaks',\n",
    "    mode='markers'\n",
    ")\n",
    "\n",
    "layout = go.Layout(\n",
    "    title = 'Streaks vs Time',\n",
    "    hovermode= 'closest',\n",
    "    xaxis= dict(\n",
    "        title= 'Time',\n",
    "    ),\n",
    "    yaxis= dict(\n",
    "        title= 'Streaks',\n",
    "    ),\n",
    ")\n",
    "\n",
    "data = [trace]\n",
    "fig = go.Figure(data=data, layout=layout)\n",
    "plot(fig)"
   ]
  },
  {
   "cell_type": "code",
   "execution_count": 25,
   "metadata": {
    "collapsed": false
   },
   "outputs": [
    {
     "data": {
      "text/plain": [
       "'file://C:\\\\Users\\\\kalkiek\\\\Desktop\\\\repos\\\\scripts\\\\temp-plot.html'"
      ]
     },
     "execution_count": 25,
     "metadata": {},
     "output_type": "execute_result"
    }
   ],
   "source": [
    "# Corner Avgs vs Streaks\n",
    "\n",
    "# Top Left Avgs\n",
    "trace_tl = go.Scatter(\n",
    "    x=streaks_df['Manual Count'],\n",
    "    y=streaks_df['Top Left'],\n",
    "    text=streaks_df['Manual Comments'],\n",
    "    name='Top Left',\n",
    "    mode='markers'\n",
    ")\n",
    "\n",
    "# Top Right Avgs\n",
    "trace_tr = go.Scatter(\n",
    "    x=streaks_df['Manual Count'],\n",
    "    y=streaks_df['Top Right'],\n",
    "    text=streaks_df['Manual Comments'],\n",
    "    name='Top Right',\n",
    "    mode='markers'\n",
    ")\n",
    "\n",
    "# Bottom Left Avgs\n",
    "trace_bl = go.Scatter(\n",
    "    x=streaks_df['Manual Count'],\n",
    "    y=streaks_df['Bottom Left'],\n",
    "    text=streaks_df['Manual Comments'],\n",
    "    name='Bottom Left',\n",
    "    mode='markers'\n",
    ")\n",
    "\n",
    "# Bottom Right Avgs\n",
    "trace_br = go.Scatter(\n",
    "    x=streaks_df['Manual Count'],\n",
    "    y=streaks_df['Bottom Right'],\n",
    "    text=streaks_df['Manual Comments'],\n",
    "    name='Bottom Right',\n",
    "    mode='markers'\n",
    ")\n",
    "\n",
    "\n",
    "layout = go.Layout(\n",
    "    title = 'Stray Light vs Streaks',\n",
    "    hovermode= 'closest',\n",
    "    xaxis= dict(\n",
    "        title= 'Streaks',\n",
    "    ),\n",
    "    yaxis= dict(\n",
    "        title= 'Corner Stray Light Average',\n",
    "    ),\n",
    ")\n",
    "\n",
    "data = [trace_tl, trace_tr, trace_bl, trace_br]\n",
    "fig = go.Figure(data=data, layout=layout)\n",
    "plot(fig)"
   ]
  },
  {
   "cell_type": "code",
   "execution_count": 37,
   "metadata": {
    "collapsed": false
   },
   "outputs": [
    {
     "name": "stdout",
     "output_type": "stream",
     "text": [
      "This is the format of your plot grid:\n",
      "[ (1,1) x1,y1 ]\n",
      "[ (2,1) x2,y2 ]\n",
      "\n"
     ]
    },
    {
     "name": "stderr",
     "output_type": "stream",
     "text": [
      "C:\\Users\\kalkiek\\AppData\\Local\\Continuum\\Anaconda2\\envs\\gorila_env\\lib\\site-packages\\plotly\\offline\\offline.py:440: UserWarning:\n",
      "\n",
      "Your filename `Streak Analysis` didn't end with .html. Adding .html to the end of your file.\n",
      "\n"
     ]
    },
    {
     "data": {
      "text/plain": [
       "'file://C:\\\\Users\\\\kalkiek\\\\Desktop\\\\repos\\\\scripts\\\\Streak Analysis.html'"
      ]
     },
     "execution_count": 37,
     "metadata": {},
     "output_type": "execute_result"
    }
   ],
   "source": [
    "# Both plots in one file\n",
    "\n",
    "from plotly import tools\n",
    "\n",
    "fig = tools.make_subplots(rows=2, cols=1, \n",
    "                          subplot_titles=('Streaks vs Time', 'Stray Light vs Streaks'))\n",
    "                          \n",
    "layout = go.Layout(\n",
    "    title = 'Streak Analysis',\n",
    "    hovermode= 'closest',\n",
    "    xaxis= dict(\n",
    "        title= 'Time',\n",
    "    ),\n",
    "    yaxis= dict(\n",
    "        title= 'Streaks',\n",
    "    ),\n",
    "    xaxis2= dict(\n",
    "        title= 'Streaks',\n",
    "    ),\n",
    "    yaxis2= dict(\n",
    "        title= 'Corner Stray Light Average',\n",
    "    ),\n",
    ")\n",
    "\n",
    "data = [trace_tl, trace_tr, trace_bl, trace_br]\n",
    "\n",
    "fig.append_trace(trace, 1, 1)\n",
    "\n",
    "fig.append_trace(trace_tl, 2, 1)\n",
    "fig.append_trace(trace_tr, 2, 1)\n",
    "fig.append_trace(trace_bl, 2, 1)\n",
    "fig.append_trace(trace_br, 2, 1)\n",
    "\n",
    "fig['layout']['hovermode'] = 'closest'\n",
    "fig['layout']['xaxis1'].update(title='Time')\n",
    "fig['layout']['yaxis1'].update(title='Streak Count')\n",
    "\n",
    "fig['layout']['xaxis2'].update(title='Streak Count')\n",
    "fig['layout']['yaxis2'].update(title='Corner Average')\n",
    "\n",
    "plot(fig, filename='Streak Analysis')"
   ]
  },
  {
   "cell_type": "code",
   "execution_count": 24,
   "metadata": {
    "collapsed": false
   },
   "outputs": [
    {
     "ename": "ValueError",
     "evalue": "shapes (3,3) and (513,512) not aligned: 3 (dim 1) != 513 (dim 0)",
     "output_type": "error",
     "traceback": [
      "\u001b[1;31m---------------------------------------------------------------------------\u001b[0m",
      "\u001b[1;31mValueError\u001b[0m                                Traceback (most recent call last)",
      "\u001b[1;32m<ipython-input-24-9c83b65a9c0c>\u001b[0m in \u001b[0;36m<module>\u001b[1;34m()\u001b[0m\n\u001b[0;32m     11\u001b[0m \u001b[1;33m\u001b[0m\u001b[0m\n\u001b[0;32m     12\u001b[0m \u001b[1;33m\u001b[0m\u001b[0m\n\u001b[1;32m---> 13\u001b[1;33m \u001b[0mtform\u001b[0m \u001b[1;33m=\u001b[0m \u001b[0mtf\u001b[0m\u001b[1;33m.\u001b[0m\u001b[0mestimate_transform\u001b[0m\u001b[1;33m(\u001b[0m\u001b[1;34m'similarity'\u001b[0m\u001b[1;33m,\u001b[0m \u001b[0msrc\u001b[0m\u001b[1;33m,\u001b[0m \u001b[0mdest\u001b[0m\u001b[1;33m)\u001b[0m\u001b[1;33m\u001b[0m\u001b[0m\n\u001b[0m\u001b[0;32m     14\u001b[0m \u001b[0mtest\u001b[0m \u001b[1;33m=\u001b[0m \u001b[0mtf\u001b[0m\u001b[1;33m.\u001b[0m\u001b[0mwarp\u001b[0m\u001b[1;33m(\u001b[0m\u001b[0mdest\u001b[0m\u001b[1;33m,\u001b[0m \u001b[0minverse_map\u001b[0m\u001b[1;33m=\u001b[0m\u001b[0mtform\u001b[0m\u001b[1;33m.\u001b[0m\u001b[0minverse\u001b[0m\u001b[1;33m)\u001b[0m\u001b[1;33m\u001b[0m\u001b[0m\n\u001b[0;32m     15\u001b[0m \u001b[1;33m\u001b[0m\u001b[0m\n",
      "\u001b[1;32mC:\\Users\\kalkiek\\AppData\\Local\\Continuum\\Anaconda2\\envs\\gorila_env\\lib\\site-packages\\skimage\\transform\\_geometric.py\u001b[0m in \u001b[0;36mestimate_transform\u001b[1;34m(ttype, src, dst, **kwargs)\u001b[0m\n\u001b[0;32m    976\u001b[0m \u001b[1;33m\u001b[0m\u001b[0m\n\u001b[0;32m    977\u001b[0m     \u001b[0mtform\u001b[0m \u001b[1;33m=\u001b[0m \u001b[0mTRANSFORMS\u001b[0m\u001b[1;33m[\u001b[0m\u001b[0mttype\u001b[0m\u001b[1;33m]\u001b[0m\u001b[1;33m(\u001b[0m\u001b[1;33m)\u001b[0m\u001b[1;33m\u001b[0m\u001b[0m\n\u001b[1;32m--> 978\u001b[1;33m     \u001b[0mtform\u001b[0m\u001b[1;33m.\u001b[0m\u001b[0mestimate\u001b[0m\u001b[1;33m(\u001b[0m\u001b[0msrc\u001b[0m\u001b[1;33m,\u001b[0m \u001b[0mdst\u001b[0m\u001b[1;33m,\u001b[0m \u001b[1;33m**\u001b[0m\u001b[0mkwargs\u001b[0m\u001b[1;33m)\u001b[0m\u001b[1;33m\u001b[0m\u001b[0m\n\u001b[0m\u001b[0;32m    979\u001b[0m \u001b[1;33m\u001b[0m\u001b[0m\n\u001b[0;32m    980\u001b[0m     \u001b[1;32mreturn\u001b[0m \u001b[0mtform\u001b[0m\u001b[1;33m\u001b[0m\u001b[0m\n",
      "\u001b[1;32mC:\\Users\\kalkiek\\AppData\\Local\\Continuum\\Anaconda2\\envs\\gorila_env\\lib\\site-packages\\skimage\\transform\\_geometric.py\u001b[0m in \u001b[0;36mestimate\u001b[1;34m(self, src, dst)\u001b[0m\n\u001b[0;32m    686\u001b[0m \u001b[1;33m\u001b[0m\u001b[0m\n\u001b[0;32m    687\u001b[0m         \u001b[1;32mtry\u001b[0m\u001b[1;33m:\u001b[0m\u001b[1;33m\u001b[0m\u001b[0m\n\u001b[1;32m--> 688\u001b[1;33m             \u001b[0msrc_matrix\u001b[0m\u001b[1;33m,\u001b[0m \u001b[0msrc\u001b[0m \u001b[1;33m=\u001b[0m \u001b[0m_center_and_normalize_points\u001b[0m\u001b[1;33m(\u001b[0m\u001b[0msrc\u001b[0m\u001b[1;33m)\u001b[0m\u001b[1;33m\u001b[0m\u001b[0m\n\u001b[0m\u001b[0;32m    689\u001b[0m             \u001b[0mdst_matrix\u001b[0m\u001b[1;33m,\u001b[0m \u001b[0mdst\u001b[0m \u001b[1;33m=\u001b[0m \u001b[0m_center_and_normalize_points\u001b[0m\u001b[1;33m(\u001b[0m\u001b[0mdst\u001b[0m\u001b[1;33m)\u001b[0m\u001b[1;33m\u001b[0m\u001b[0m\n\u001b[0;32m    690\u001b[0m         \u001b[1;32mexcept\u001b[0m \u001b[0mZeroDivisionError\u001b[0m\u001b[1;33m:\u001b[0m\u001b[1;33m\u001b[0m\u001b[0m\n",
      "\u001b[1;32mC:\\Users\\kalkiek\\AppData\\Local\\Continuum\\Anaconda2\\envs\\gorila_env\\lib\\site-packages\\skimage\\transform\\_geometric.py\u001b[0m in \u001b[0;36m_center_and_normalize_points\u001b[1;34m(points)\u001b[0m\n\u001b[0;32m     61\u001b[0m     \u001b[0mpointsh\u001b[0m \u001b[1;33m=\u001b[0m \u001b[0mnp\u001b[0m\u001b[1;33m.\u001b[0m\u001b[0mrow_stack\u001b[0m\u001b[1;33m(\u001b[0m\u001b[1;33m[\u001b[0m\u001b[0mpoints\u001b[0m\u001b[1;33m.\u001b[0m\u001b[0mT\u001b[0m\u001b[1;33m,\u001b[0m \u001b[0mnp\u001b[0m\u001b[1;33m.\u001b[0m\u001b[0mones\u001b[0m\u001b[1;33m(\u001b[0m\u001b[1;33m(\u001b[0m\u001b[0mpoints\u001b[0m\u001b[1;33m.\u001b[0m\u001b[0mshape\u001b[0m\u001b[1;33m[\u001b[0m\u001b[1;36m0\u001b[0m\u001b[1;33m]\u001b[0m\u001b[1;33m)\u001b[0m\u001b[1;33m,\u001b[0m\u001b[1;33m)\u001b[0m\u001b[1;33m]\u001b[0m\u001b[1;33m)\u001b[0m\u001b[1;33m\u001b[0m\u001b[0m\n\u001b[0;32m     62\u001b[0m \u001b[1;33m\u001b[0m\u001b[0m\n\u001b[1;32m---> 63\u001b[1;33m     \u001b[0mnew_pointsh\u001b[0m \u001b[1;33m=\u001b[0m \u001b[0mnp\u001b[0m\u001b[1;33m.\u001b[0m\u001b[0mdot\u001b[0m\u001b[1;33m(\u001b[0m\u001b[0mmatrix\u001b[0m\u001b[1;33m,\u001b[0m \u001b[0mpointsh\u001b[0m\u001b[1;33m)\u001b[0m\u001b[1;33m.\u001b[0m\u001b[0mT\u001b[0m\u001b[1;33m\u001b[0m\u001b[0m\n\u001b[0m\u001b[0;32m     64\u001b[0m \u001b[1;33m\u001b[0m\u001b[0m\n\u001b[0;32m     65\u001b[0m     \u001b[0mnew_points\u001b[0m \u001b[1;33m=\u001b[0m \u001b[0mnew_pointsh\u001b[0m\u001b[1;33m[\u001b[0m\u001b[1;33m:\u001b[0m\u001b[1;33m,\u001b[0m \u001b[1;33m:\u001b[0m\u001b[1;36m2\u001b[0m\u001b[1;33m]\u001b[0m\u001b[1;33m\u001b[0m\u001b[0m\n",
      "\u001b[1;31mValueError\u001b[0m: shapes (3,3) and (513,512) not aligned: 3 (dim 1) != 513 (dim 0)"
     ]
    }
   ],
   "source": [
    "from skimage import data\n",
    "import skimage.transform as tf\n",
    "from matplotlib import pyplot as plt\n",
    "from scipy.ndimage import fourier_shift\n",
    "import numpy as np\n",
    "\n",
    "src = data.camera() \n",
    "\n",
    "dest = fourier_shift(np.fft.fftn(src), (20, 20))\n",
    "dest = np.fft.ifftn(dest).real\n",
    "\n",
    "\n",
    "tform = tf.estimate_transform('similarity', src, dest)\n",
    "test = tf.warp(dest, inverse_map=tform.inverse) \n",
    "\n",
    "plt.imshow(test, cmap='gray')\n",
    "plt.show()\n"
   ]
  }
 ],
 "metadata": {
  "anaconda-cloud": {},
  "kernelspec": {
   "display_name": "Python [conda env:gorila_env]",
   "language": "python",
   "name": "conda-env-gorila_env-py"
  },
  "language_info": {
   "codemirror_mode": {
    "name": "ipython",
    "version": 3
   },
   "file_extension": ".py",
   "mimetype": "text/x-python",
   "name": "python",
   "nbconvert_exporter": "python",
   "pygments_lexer": "ipython3",
   "version": "3.5.2"
  }
 },
 "nbformat": 4,
 "nbformat_minor": 1
}
